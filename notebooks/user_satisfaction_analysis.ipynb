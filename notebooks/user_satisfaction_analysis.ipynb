{
 "cells": [
  {
   "cell_type": "markdown",
   "metadata": {},
   "source": [
    "# Task-4"
   ]
  },
  {
   "cell_type": "code",
   "execution_count": null,
   "metadata": {},
   "outputs": [],
   "source": [
    "import pandas as pd\n",
    "import numpy as np\n",
    "import matplotlib.pyplot as plt\n",
    "import seaborn as sns\n",
    "from sklearn.decomposition import PCA\n",
    "from sklearn.cluster import KMeans\n",
    "from sqlalchemy import create_engine\n",
    "from dotenv import load_dotenv\n",
    "import os\n",
    "import sys\n",
    "sys.path.append(os.path.abspath(os.path.join('..')))\n",
    "from scripts.user_satisfaction_analysis import *\n",
    "from scripts.user_experience_analysis import aggregate_customer_data, perform_kmeans_clustering as experience_cluster\n",
    "from scripts.user_engagement_analysis import aggregate_metrics_per_customer, normalize_and_cluster as engagement_cluster"
   ]
  },
  {
   "cell_type": "markdown",
   "metadata": {},
   "source": [
    "# Load environment variables from .env file"
   ]
  },
  {
   "cell_type": "code",
   "execution_count": 4,
   "metadata": {},
   "outputs": [
    {
     "data": {
      "text/plain": [
       "True"
      ]
     },
     "execution_count": 4,
     "metadata": {},
     "output_type": "execute_result"
    }
   ],
   "source": [
    "\n",
    "load_dotenv('../venv/venv')"
   ]
  },
  {
   "cell_type": "markdown",
   "metadata": {},
   "source": [
    "# Retrieve database connection details from environment variables"
   ]
  },
  {
   "cell_type": "code",
   "execution_count": 5,
   "metadata": {},
   "outputs": [],
   "source": [
    "db_user = os.getenv('DB_USER')\n",
    "db_password = os.getenv('DB_PASSWORD')\n",
    "db_host = os.getenv('DB_HOST')\n",
    "db_port = os.getenv('DB_PORT')\n",
    "db_name = os.getenv('DB_NAME')"
   ]
  },
  {
   "cell_type": "markdown",
   "metadata": {},
   "source": [
    "# Create the connection string"
   ]
  },
  {
   "cell_type": "code",
   "execution_count": null,
   "metadata": {},
   "outputs": [],
   "source": [
    "connection_string = f'postgresql+psycopg2://{db_user}:{db_password}@{db_host}:{db_port}/{db_name}'\n",
    "engine = create_engine(connection_string)"
   ]
  },
  {
   "cell_type": "markdown",
   "metadata": {},
   "source": [
    "# Query the data"
   ]
  },
  {
   "cell_type": "code",
   "execution_count": null,
   "metadata": {},
   "outputs": [],
   "source": [
    "query = 'SELECT * FROM xdr_data_cleaned'\n",
    "data_cleaned = pd.read_sql(query, engine)"
   ]
  },
  {
   "cell_type": "markdown",
   "metadata": {},
   "source": [
    "# Display the data"
   ]
  },
  {
   "cell_type": "code",
   "execution_count": null,
   "metadata": {},
   "outputs": [],
   "source": [
    "print(data_cleaned.head())"
   ]
  },
  {
   "cell_type": "markdown",
   "metadata": {},
   "source": [
    "# Engagement Score and Experience Score to each user"
   ]
  },
  {
   "cell_type": "code",
   "execution_count": null,
   "metadata": {},
   "outputs": [],
   "source": [
    "def aggregate_metrics_per_customer(data_cleaned: pd.DataFrame) -> pd.DataFrame:\n",
    "    aggregated = data_cleaned.groupby('MSISDN/Number').agg({\n",
    "        'Bearer Id': 'count',\n",
    "        'Dur. (ms)': 'sum',\n",
    "        'Total DL (Bytes)': 'sum',\n",
    "        'Total UL (Bytes)': 'sum'\n",
    "    }).reset_index()\n",
    "    \n",
    "    aggregated['Total Traffic'] = aggregated['Total DL (Bytes)'] + aggregated['Total UL (Bytes)']\n",
    "    aggregated.columns = ['MSISDN', 'Sessions', 'Duration', 'DL Traffic', 'UL Traffic', 'Total Traffic']\n",
    "    \n",
    "    top_10 = {\n",
    "        'Sessions': aggregated.nlargest(10, 'Sessions'),\n",
    "        'Duration': aggregated.nlargest(10, 'Duration'),\n",
    "        'Total Traffic': aggregated.nlargest(10, 'Total Traffic')\n",
    "    }\n",
    "    \n",
    "    return aggregated, top_10"
   ]
  },
  {
   "cell_type": "code",
   "execution_count": null,
   "metadata": {},
   "outputs": [],
   "source": [
    "# aggregrate metrics per customer \n",
    "aggregated_data, top_10_customers = aggregate_metrics_per_customer(data_cleaned)"
   ]
  },
  {
   "cell_type": "code",
   "execution_count": null,
   "metadata": {},
   "outputs": [],
   "source": [
    "# Engagement analysis\n",
    "engagement_data, _ = aggregate_metrics_per_customer(data_cleaned)\n",
    "engagement_normalized, engagement_kmeans = engagement_cluster(engagement_data)"
   ]
  },
  {
   "cell_type": "code",
   "execution_count": null,
   "metadata": {},
   "outputs": [],
   "source": [
    "# Experience analysis\n",
    "experience_data = aggregate_customer_data(data_cleaned)\n",
    "experience_data, experience_kmeans = experience_cluster(experience_data)"
   ]
  },
  {
   "cell_type": "code",
   "execution_count": null,
   "metadata": {},
   "outputs": [],
   "source": [
    "# Check shape of engagmeent_data and experience_data \n",
    "print(f\"Engagement data shape: {engagement_data.shape}\")\n",
    "print(f\"Experience data shape: {experience_data.shape}\")"
   ]
  },
  {
   "cell_type": "code",
   "execution_count": null,
   "metadata": {},
   "outputs": [],
   "source": [
    "# check if both data are aligned with MSISDN\n",
    "engagement_data.head()"
   ]
  },
  {
   "cell_type": "code",
   "execution_count": null,
   "metadata": {},
   "outputs": [],
   "source": [
    "# check if both data are aligned with MSISDN\n",
    "experience_data.head()"
   ]
  },
  {
   "cell_type": "code",
   "execution_count": null,
   "metadata": {},
   "outputs": [],
   "source": [
    "# engagement and experience features \n",
    "engagement_features = ['Sessions', 'Duration', 'Total Traffic']\n",
    "experience_features = ['Avg TCP Retrans', 'Avg RTT', 'Avg Throughput']"
   ]
  },
  {
   "cell_type": "code",
   "execution_count": null,
   "metadata": {},
   "outputs": [],
   "source": [
    "# Normalize the data for clustering\n",
    "scaler = StandardScaler()\n",
    "engagement_normalized = scaler.fit_transform(engagement_data[engagement_features])\n",
    "experience_normalized = scaler.fit_transform(experience_data[experience_features])"
   ]
  },
  {
   "cell_type": "code",
   "execution_count": null,
   "metadata": {},
   "outputs": [],
   "source": [
    "# Create and fit KMeans models\n",
    "engagement_kmeans = KMeans(n_clusters=3, random_state=42)\n",
    "engagement_kmeans.fit(engagement_normalized)\n",
    "\n",
    "experience_kmeans = KMeans(n_clusters=3, random_state=42)\n",
    "experience_kmeans.fit(experience_normalized)"
   ]
  },
  {
   "cell_type": "code",
   "execution_count": null,
   "metadata": {},
   "outputs": [],
   "source": [
    "msisdn_column = data_cleaned['MSISDN/Number']  \n",
    "\n",
    "engagement_data = engagement_data.reset_index(drop=True)\n",
    "experience_data = experience_data.reset_index(drop=True)"
   ]
  },
  {
   "cell_type": "code",
   "execution_count": null,
   "metadata": {},
   "outputs": [],
   "source": [
    "scores_data = assign_scores(engagement_data[engagement_features], \n",
    "                          experience_data[experience_features], \n",
    "                          engagement_kmeans, experience_kmeans,\n",
    "                          msisdn_column)\n",
    "\n",
    "scores_data"
   ]
  },
  {
   "cell_type": "markdown",
   "metadata": {},
   "source": [
    "# Calculate the Satisfaction Score"
   ]
  },
  {
   "cell_type": "code",
   "execution_count": null,
   "metadata": {},
   "outputs": [],
   "source": [
    "scores_data, top_10_satisfied = calculate_satisfaction_scores(scores_data)\n",
    "print(\"Top 10 Satisfied Customers:\")\n",
    "top_10_satisfied"
   ]
  },
  {
   "cell_type": "markdown",
   "metadata": {},
   "source": [
    "# Build a Regression Model"
   ]
  },
  {
   "cell_type": "code",
   "execution_count": null,
   "metadata": {},
   "outputs": [],
   "source": [
    "model, mse, r2 = build_regression_model(scores_data)\n",
    "print(f\"Model MSE: {mse}\")\n",
    "print(f\"Model R2 Score: {r2}\")"
   ]
  },
  {
   "cell_type": "code",
   "execution_count": null,
   "metadata": {},
   "outputs": [],
   "source": [
    "clustered_data, avg_satisfaction, avg_experience = cluster_satisfaction(scores_data)\n",
    "print(f\"Average Satisfaction Scores per Cluster: {avg_satisfaction}\")\n",
    "print(f\"Average Experience Scores per Cluster: {avg_experience}\")\n",
    "\n",
    "fig = plot_clusters(clustered_data)\n",
    "plt.show()"
   ]
  }
 ],
 "metadata": {
  "kernelspec": {
   "display_name": "base",
   "language": "python",
   "name": "python3"
  },
  "language_info": {
   "codemirror_mode": {
    "name": "ipython",
    "version": 3
   },
   "file_extension": ".py",
   "mimetype": "text/x-python",
   "name": "python",
   "nbconvert_exporter": "python",
   "pygments_lexer": "ipython3",
   "version": "3.11.7"
  }
 },
 "nbformat": 4,
 "nbformat_minor": 2
}
